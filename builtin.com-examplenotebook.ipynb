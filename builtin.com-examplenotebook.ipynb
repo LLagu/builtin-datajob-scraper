{
 "cells": [
  {
   "cell_type": "markdown",
   "id": "27b00181-e2b8-49ae-bacd-b34b4ebf497f",
   "metadata": {},
   "source": [
    "# builtin.com analysis example\n",
    "\n",
    "The following is a brief and simple analysis of Data+Analytics jobs using the data scraped from the builtin.com website using builtin-datajob-scraper.\n",
    "The data is read by a manually updated sqlite database but it is also possible to read the csv files created by the program."
   ]
  },
  {
   "cell_type": "code",
   "execution_count": 1,
   "id": "6e3682e4-ddcb-4d0f-a5ca-9cbbf068d80a",
   "metadata": {
    "tags": []
   },
   "outputs": [],
   "source": [
    "import pandas as pd\n",
    "import matplotlib.pyplot as plt\n",
    "import seaborn as sns\n",
    "import sqlite3"
   ]
  },
  {
   "cell_type": "code",
   "execution_count": 2,
   "id": "8fea9cc2-81b4-4f52-93ca-da022e0ebcb9",
   "metadata": {},
   "outputs": [],
   "source": [
    "con = sqlite3.connect('manualdb.db')\n",
    "#cur = con.cursor()\n",
    "#cur.execute(\"SELECT * FROM builtinjobs\")"
   ]
  },
  {
   "cell_type": "markdown",
   "id": "fb1bf2a8-3f4c-4f63-b3c0-7db6547f6fea",
   "metadata": {},
   "source": [
    "**Join example**"
   ]
  },
  {
   "cell_type": "code",
   "execution_count": 3,
   "id": "ec1b2926-316d-43d4-9256-130613c6aa03",
   "metadata": {},
   "outputs": [
    {
     "data": {
      "text/html": [
       "<div>\n",
       "<style scoped>\n",
       "    .dataframe tbody tr th:only-of-type {\n",
       "        vertical-align: middle;\n",
       "    }\n",
       "\n",
       "    .dataframe tbody tr th {\n",
       "        vertical-align: top;\n",
       "    }\n",
       "\n",
       "    .dataframe thead th {\n",
       "        text-align: right;\n",
       "    }\n",
       "</style>\n",
       "<table border=\"1\" class=\"dataframe\">\n",
       "  <thead>\n",
       "    <tr style=\"text-align: right;\">\n",
       "      <th></th>\n",
       "      <th>position</th>\n",
       "      <th>name</th>\n",
       "      <th>location</th>\n",
       "      <th>subcategory_1</th>\n",
       "      <th>subcategory_2</th>\n",
       "      <th>subcategory_3</th>\n",
       "      <th>industry_1</th>\n",
       "      <th>industry_2</th>\n",
       "      <th>industry_3</th>\n",
       "    </tr>\n",
       "  </thead>\n",
       "  <tbody>\n",
       "    <tr>\n",
       "      <th>0</th>\n",
       "      <td>Senior Analyst, Investment Operations</td>\n",
       "      <td>Morningstar</td>\n",
       "      <td>Chicago</td>\n",
       "      <td>Analysis &amp; Reporting</td>\n",
       "      <td>None</td>\n",
       "      <td>None</td>\n",
       "      <td>Enterprise Web</td>\n",
       "      <td>Fintech</td>\n",
       "      <td>None</td>\n",
       "    </tr>\n",
       "    <tr>\n",
       "      <th>1</th>\n",
       "      <td>Information Security - Senior Risk Analyst</td>\n",
       "      <td>Motorola Solutions</td>\n",
       "      <td>Chicago</td>\n",
       "      <td>Analytics</td>\n",
       "      <td>None</td>\n",
       "      <td>None</td>\n",
       "      <td>Hardware</td>\n",
       "      <td>Software</td>\n",
       "      <td>None</td>\n",
       "    </tr>\n",
       "    <tr>\n",
       "      <th>2</th>\n",
       "      <td>Remote, Manager Data Management</td>\n",
       "      <td>eClinical Solutions</td>\n",
       "      <td>Greater Boston Area</td>\n",
       "      <td>Data Engineering</td>\n",
       "      <td>Management</td>\n",
       "      <td>None</td>\n",
       "      <td>Cloud</td>\n",
       "      <td>Healthtech</td>\n",
       "      <td>Professional Services</td>\n",
       "    </tr>\n",
       "    <tr>\n",
       "      <th>3</th>\n",
       "      <td>Principal Data Engineer</td>\n",
       "      <td>eClinical Solutions</td>\n",
       "      <td>Greater Boston Area</td>\n",
       "      <td>Data Engineering</td>\n",
       "      <td>None</td>\n",
       "      <td>None</td>\n",
       "      <td>Cloud</td>\n",
       "      <td>Healthtech</td>\n",
       "      <td>Professional Services</td>\n",
       "    </tr>\n",
       "    <tr>\n",
       "      <th>4</th>\n",
       "      <td>Business Analyst, Clinical Research Software</td>\n",
       "      <td>eClinical Solutions</td>\n",
       "      <td>Greater Boston Area</td>\n",
       "      <td>Business Intelligence</td>\n",
       "      <td>None</td>\n",
       "      <td>None</td>\n",
       "      <td>Cloud</td>\n",
       "      <td>Healthtech</td>\n",
       "      <td>Professional Services</td>\n",
       "    </tr>\n",
       "    <tr>\n",
       "      <th>...</th>\n",
       "      <td>...</td>\n",
       "      <td>...</td>\n",
       "      <td>...</td>\n",
       "      <td>...</td>\n",
       "      <td>...</td>\n",
       "      <td>...</td>\n",
       "      <td>...</td>\n",
       "      <td>...</td>\n",
       "      <td>...</td>\n",
       "    </tr>\n",
       "    <tr>\n",
       "      <th>4669</th>\n",
       "      <td>Software Engineer, Data Platform</td>\n",
       "      <td>Nuna</td>\n",
       "      <td>San Francisco</td>\n",
       "      <td>Data Engineering</td>\n",
       "      <td>None</td>\n",
       "      <td>None</td>\n",
       "      <td>Healthtech</td>\n",
       "      <td>None</td>\n",
       "      <td>None</td>\n",
       "    </tr>\n",
       "    <tr>\n",
       "      <th>4670</th>\n",
       "      <td>Sr. Analytics Engineer</td>\n",
       "      <td>Eaze</td>\n",
       "      <td>San Francisco</td>\n",
       "      <td>Analytics</td>\n",
       "      <td>Data Engineering</td>\n",
       "      <td>None</td>\n",
       "      <td>Cannabis</td>\n",
       "      <td>None</td>\n",
       "      <td>None</td>\n",
       "    </tr>\n",
       "    <tr>\n",
       "      <th>4671</th>\n",
       "      <td>Senior Data Scientist</td>\n",
       "      <td>Step</td>\n",
       "      <td>Peninsula</td>\n",
       "      <td>Data Science</td>\n",
       "      <td>None</td>\n",
       "      <td>None</td>\n",
       "      <td>Fintech</td>\n",
       "      <td>None</td>\n",
       "      <td>None</td>\n",
       "    </tr>\n",
       "    <tr>\n",
       "      <th>4672</th>\n",
       "      <td>Senior Data Engineer</td>\n",
       "      <td>Mosaic</td>\n",
       "      <td>East Bay</td>\n",
       "      <td>Data Engineering</td>\n",
       "      <td>None</td>\n",
       "      <td>None</td>\n",
       "      <td>Fintech</td>\n",
       "      <td>Greentech</td>\n",
       "      <td>None</td>\n",
       "    </tr>\n",
       "    <tr>\n",
       "      <th>4673</th>\n",
       "      <td>Business Intelligence Developer</td>\n",
       "      <td>Point B</td>\n",
       "      <td>Seattle</td>\n",
       "      <td>Business Intelligence</td>\n",
       "      <td>Data Engineering</td>\n",
       "      <td>None</td>\n",
       "      <td>Agency</td>\n",
       "      <td>Consulting</td>\n",
       "      <td>None</td>\n",
       "    </tr>\n",
       "  </tbody>\n",
       "</table>\n",
       "<p>4674 rows × 9 columns</p>\n",
       "</div>"
      ],
      "text/plain": [
       "                                          position                 name  \\\n",
       "0            Senior Analyst, Investment Operations          Morningstar   \n",
       "1       Information Security - Senior Risk Analyst   Motorola Solutions   \n",
       "2                  Remote, Manager Data Management  eClinical Solutions   \n",
       "3                          Principal Data Engineer  eClinical Solutions   \n",
       "4     Business Analyst, Clinical Research Software  eClinical Solutions   \n",
       "...                                            ...                  ...   \n",
       "4669              Software Engineer, Data Platform                 Nuna   \n",
       "4670                        Sr. Analytics Engineer                 Eaze   \n",
       "4671                         Senior Data Scientist                 Step   \n",
       "4672                          Senior Data Engineer               Mosaic   \n",
       "4673               Business Intelligence Developer              Point B   \n",
       "\n",
       "                 location          subcategory_1     subcategory_2  \\\n",
       "0                 Chicago   Analysis & Reporting              None   \n",
       "1                 Chicago              Analytics              None   \n",
       "2     Greater Boston Area       Data Engineering        Management   \n",
       "3     Greater Boston Area       Data Engineering              None   \n",
       "4     Greater Boston Area  Business Intelligence              None   \n",
       "...                   ...                    ...               ...   \n",
       "4669        San Francisco       Data Engineering              None   \n",
       "4670        San Francisco              Analytics  Data Engineering   \n",
       "4671            Peninsula           Data Science              None   \n",
       "4672             East Bay       Data Engineering              None   \n",
       "4673              Seattle  Business Intelligence  Data Engineering   \n",
       "\n",
       "     subcategory_3      industry_1  industry_2             industry_3  \n",
       "0             None  Enterprise Web     Fintech                   None  \n",
       "1             None        Hardware    Software                   None  \n",
       "2             None           Cloud  Healthtech  Professional Services  \n",
       "3             None           Cloud  Healthtech  Professional Services  \n",
       "4             None           Cloud  Healthtech  Professional Services  \n",
       "...            ...             ...         ...                    ...  \n",
       "4669          None      Healthtech        None                   None  \n",
       "4670          None        Cannabis        None                   None  \n",
       "4671          None         Fintech        None                   None  \n",
       "4672          None         Fintech   Greentech                   None  \n",
       "4673          None          Agency  Consulting                   None  \n",
       "\n",
       "[4674 rows x 9 columns]"
      ]
     },
     "execution_count": 3,
     "metadata": {},
     "output_type": "execute_result"
    }
   ],
   "source": [
    "\n",
    "q = ('SELECT position, c.name, location, sub1.name AS subcategory_1, sub2.name AS subcategory_2, sub3.name AS subcategory_3, ind1.name AS industry_1, ind2.name AS industry_2, ind3.name AS industry_3 ' \n",
    "     'FROM jobs '\n",
    "     'LEFT JOIN subcategory AS sub1 ON subcategory_1 = sub1.id ' \n",
    "     'LEFT JOIN subcategory AS sub2 ON subcategory_2 = sub2.id '\n",
    "     'LEFT JOIN subcategory AS sub3 ON subcategory_3 = sub3.id '\n",
    "     'LEFT JOIN industry AS ind1 ON industry1 = ind1.id '\n",
    "     'LEFT JOIN industry AS ind2 ON industry2 = ind2.id '\n",
    "     'LEFT JOIN industry AS ind3 ON industry3 = ind3.id '\n",
    "     'LEFT JOIN company AS c ON company = c.id')\n",
    "df = pd.read_sql_query(q,con)\n",
    "df"
   ]
  },
  {
   "cell_type": "markdown",
   "id": "2f4d3c80-08ee-45c6-b39a-baff34898ac0",
   "metadata": {},
   "source": [
    "**Number of Healthcare job offers by region**"
   ]
  },
  {
   "cell_type": "code",
   "execution_count": 4,
   "id": "9f79428d-182a-4499-bedb-e87c90d64d51",
   "metadata": {},
   "outputs": [
    {
     "data": {
      "text/plain": [
       "<AxesSubplot:xlabel='count', ylabel='location'>"
      ]
     },
     "execution_count": 4,
     "metadata": {},
     "output_type": "execute_result"
    },
    {
     "data": {
      "image/png": "[encoded data removed]",
      "text/plain": [
       "<Figure size 1800x576 with 1 Axes>"
      ]
     },
     "metadata": {
      "needs_background": "light"
     },
     "output_type": "display_data"
    }
   ],
   "source": [
    "q = ('SELECT position, c.name, location, ind1.name AS industry_1, ind2.name AS industry_2, ind3.name AS industry_3 ' \n",
    "     'FROM jobs '\n",
    "     'LEFT JOIN industry AS ind1 ON industry1 = ind1.id '\n",
    "     'LEFT JOIN industry AS ind2 ON industry2 = ind2.id '\n",
    "     'LEFT JOIN industry AS ind3 ON industry3 = ind3.id '\n",
    "     'LEFT JOIN company AS c ON company = c.id '\n",
    "     'WHERE ind1.name = \"Healthtech\" OR ind2.name = \"Healthtech\"'\n",
    "    )\n",
    "df = pd.read_sql_query(q,con)\n",
    "plt.figure(figsize=(25, 8))\n",
    "sns.countplot(y='location',data=df, palette=\"Greens_d\")"
   ]
  },
  {
   "cell_type": "markdown",
   "id": "b3093fa0-ce03-4b08-a8b9-4975f9063dfa",
   "metadata": {},
   "source": [
    "**Industries recurrencies**"
   ]
  },
  {
   "cell_type": "code",
   "execution_count": 5,
   "id": "803ab172-04df-4b25-8a5a-38d647a2a7f7",
   "metadata": {},
   "outputs": [
    {
     "data": {
      "text/html": [
       "<div>\n",
       "<style scoped>\n",
       "    .dataframe tbody tr th:only-of-type {\n",
       "        vertical-align: middle;\n",
       "    }\n",
       "\n",
       "    .dataframe tbody tr th {\n",
       "        vertical-align: top;\n",
       "    }\n",
       "\n",
       "    .dataframe thead th {\n",
       "        text-align: right;\n",
       "    }\n",
       "</style>\n",
       "<table border=\"1\" class=\"dataframe\">\n",
       "  <thead>\n",
       "    <tr style=\"text-align: right;\">\n",
       "      <th></th>\n",
       "      <th>industry1_name</th>\n",
       "      <th>industry_1_count</th>\n",
       "    </tr>\n",
       "  </thead>\n",
       "  <tbody>\n",
       "    <tr>\n",
       "      <th>0</th>\n",
       "      <td>Fintech</td>\n",
       "      <td>709</td>\n",
       "    </tr>\n",
       "    <tr>\n",
       "      <th>1</th>\n",
       "      <td>eCommerce</td>\n",
       "      <td>443</td>\n",
       "    </tr>\n",
       "    <tr>\n",
       "      <th>2</th>\n",
       "      <td>Cloud</td>\n",
       "      <td>429</td>\n",
       "    </tr>\n",
       "    <tr>\n",
       "      <th>3</th>\n",
       "      <td>Healthtech</td>\n",
       "      <td>375</td>\n",
       "    </tr>\n",
       "    <tr>\n",
       "      <th>4</th>\n",
       "      <td>Big Data</td>\n",
       "      <td>357</td>\n",
       "    </tr>\n",
       "  </tbody>\n",
       "</table>\n",
       "</div>"
      ],
      "text/plain": [
       "  industry1_name  industry_1_count\n",
       "0        Fintech               709\n",
       "1      eCommerce               443\n",
       "2          Cloud               429\n",
       "3     Healthtech               375\n",
       "4       Big Data               357"
      ]
     },
     "execution_count": 5,
     "metadata": {},
     "output_type": "execute_result"
    }
   ],
   "source": [
    "q = ('SELECT ind1.name AS industry1_name,COUNT(ind1.name) AS industry_1_count ' \n",
    "     'FROM jobs '\n",
    "     'LEFT JOIN industry AS ind1 ON industry1 = ind1.id '\n",
    "     'GROUP BY ind1.name '\n",
    "     'ORDER BY industry_1_count DESC'\n",
    "    )\n",
    "df = pd.read_sql_query(q,con)\n",
    "df.head()"
   ]
  },
  {
   "cell_type": "code",
   "execution_count": 6,
   "id": "da54df5c-d707-45e5-bb06-77a343a1c23b",
   "metadata": {},
   "outputs": [
    {
     "data": {
      "text/plain": [
       "<AxesSubplot:xlabel='industry1_name', ylabel='industry_1_count'>"
      ]
     },
     "execution_count": 6,
     "metadata": {},
     "output_type": "execute_result"
    },
    {
     "data": {
      "image/png": "[encoded data removed]",
      "text/plain": [
       "<Figure size 1800x576 with 1 Axes>"
      ]
     },
     "metadata": {
      "needs_background": "light"
     },
     "output_type": "display_data"
    }
   ],
   "source": [
    "plt.figure(figsize=(25, 8))\n",
    "sns.barplot(x='industry1_name',y='industry_1_count',data=df.head(), palette=\"Greens_d\")"
   ]
  },
  {
   "cell_type": "markdown",
   "id": "c3fd145a-9a92-4314-8ebb-aa8171265bca",
   "metadata": {},
   "source": [
    "**Healthcare industry/subcategory combination**"
   ]
  },
  {
   "cell_type": "code",
   "execution_count": 7,
   "id": "9c090067-117d-4b10-b67b-c15b75839ad0",
   "metadata": {},
   "outputs": [
    {
     "data": {
      "text/html": [
       "<div>\n",
       "<style scoped>\n",
       "    .dataframe tbody tr th:only-of-type {\n",
       "        vertical-align: middle;\n",
       "    }\n",
       "\n",
       "    .dataframe tbody tr th {\n",
       "        vertical-align: top;\n",
       "    }\n",
       "\n",
       "    .dataframe thead th {\n",
       "        text-align: right;\n",
       "    }\n",
       "</style>\n",
       "<table border=\"1\" class=\"dataframe\">\n",
       "  <thead>\n",
       "    <tr style=\"text-align: right;\">\n",
       "      <th></th>\n",
       "      <th>name</th>\n",
       "      <th>subcategory_1</th>\n",
       "      <th>count</th>\n",
       "    </tr>\n",
       "  </thead>\n",
       "  <tbody>\n",
       "    <tr>\n",
       "      <th>0</th>\n",
       "      <td>Healthtech</td>\n",
       "      <td>Data Engineering</td>\n",
       "      <td>93</td>\n",
       "    </tr>\n",
       "    <tr>\n",
       "      <th>1</th>\n",
       "      <td>Healthtech</td>\n",
       "      <td>Analytics</td>\n",
       "      <td>48</td>\n",
       "    </tr>\n",
       "    <tr>\n",
       "      <th>2</th>\n",
       "      <td>Healthtech</td>\n",
       "      <td>Other</td>\n",
       "      <td>34</td>\n",
       "    </tr>\n",
       "    <tr>\n",
       "      <th>3</th>\n",
       "      <td>Healthtech</td>\n",
       "      <td>Data Science</td>\n",
       "      <td>32</td>\n",
       "    </tr>\n",
       "    <tr>\n",
       "      <th>4</th>\n",
       "      <td>Healthtech</td>\n",
       "      <td>Analysis &amp; Reporting</td>\n",
       "      <td>31</td>\n",
       "    </tr>\n",
       "  </tbody>\n",
       "</table>\n",
       "</div>"
      ],
      "text/plain": [
       "         name         subcategory_1  count\n",
       "0  Healthtech      Data Engineering     93\n",
       "1  Healthtech             Analytics     48\n",
       "2  Healthtech                 Other     34\n",
       "3  Healthtech          Data Science     32\n",
       "4  Healthtech  Analysis & Reporting     31"
      ]
     },
     "execution_count": 7,
     "metadata": {},
     "output_type": "execute_result"
    }
   ],
   "source": [
    "q = ('SELECT ind1.name, sub1.name AS subcategory_1, COUNT() AS count ' \n",
    "     'FROM jobs '\n",
    "     'LEFT JOIN industry AS ind1 ON industry1 = ind1.id '\n",
    "     'LEFT JOIN subcategory AS sub1 ON subcategory_1 = sub1.id ' \n",
    "     'LEFT JOIN subcategory AS sub2 ON subcategory_2 = sub2.id '\n",
    "     'WHERE ind1.name = \"Healthtech\" '\n",
    "     'GROUP BY ind1.name,subcategory_1,subcategory_2 '\n",
    "     'ORDER BY count DESC'\n",
    "    )\n",
    "df = pd.read_sql_query(q,con)\n",
    "df.head()"
   ]
  },
  {
   "cell_type": "code",
   "execution_count": 8,
   "id": "c572c9a5-4643-4de5-896b-926a2762d29f",
   "metadata": {},
   "outputs": [
    {
     "data": {
      "text/plain": [
       "<AxesSubplot:xlabel='subcategory_1', ylabel='count'>"
      ]
     },
     "execution_count": 8,
     "metadata": {},
     "output_type": "execute_result"
    },
    {
     "data": {
      "image/png": "[encoded data removed]",
      "text/plain": [
       "<Figure size 1800x576 with 1 Axes>"
      ]
     },
     "metadata": {
      "needs_background": "light"
     },
     "output_type": "display_data"
    }
   ],
   "source": [
    "plt.figure(figsize=(25, 8))\n",
    "sns.barplot(x='subcategory_1',y='count',data=df, palette=\"Greens_d\")"
   ]
  }
 ],
 "metadata": {
  "kernelspec": {
   "display_name": "Python 3",
   "language": "python",
   "name": "python3"
  },
  "language_info": {
   "codemirror_mode": {
    "name": "ipython",
    "version": 3
   },
   "file_extension": ".py",
   "mimetype": "text/x-python",
   "name": "python",
   "nbconvert_exporter": "python",
   "pygments_lexer": "ipython3",
   "version": "3.9.5"
  }
 },
 "nbformat": 4,
 "nbformat_minor": 5
}
